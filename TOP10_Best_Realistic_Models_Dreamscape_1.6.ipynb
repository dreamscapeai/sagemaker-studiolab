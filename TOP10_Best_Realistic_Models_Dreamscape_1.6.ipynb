{
 "cells": [
  {
   "cell_type": "markdown",
   "id": "60f1890c-0de7-4474-a985-92bf27497329",
   "metadata": {
    "tags": []
   },
   "source": [
    "<center><span style=\"font-size: 24px;font-weight: bold\">Top10 Best Realistic Models - Dreamscape Notebook 1.6</span></center>\n",
    "<center>Made with Sagemaker Studio Lab. Follow tutorial on my  <a href=\"www.youtube.com/@dreamscapeyoutube\">Youtube Channel</a>. Join our <a href=\"https://discord.gg/VCqcfZH2jV\">Discord Community</a> for support.</center>"
   ]
  },
  {
   "cell_type": "markdown",
   "id": "e4dd09f1-eb19-4fd1-ae06-fc8c604366fb",
   "metadata": {
    "jp-MarkdownHeadingCollapsed": true,
    "tags": []
   },
   "source": [
    "<h3><b>Step 1. Fresh Clean Install</b> (only first launch and troubleshooting)</h3>\n",
    "If you have a healthy and working install, SKIP to Step 3."
   ]
  },
  {
   "cell_type": "code",
   "execution_count": null,
   "id": "ea5bcd71-2b71-4d27-90c1-053444ef33f0",
   "metadata": {
    "tags": []
   },
   "outputs": [],
   "source": [
    "#Remove, clean and delete all files and environment.\n",
    "!rm -r /home/studio-lab-user/.cache\n",
    "!rm -r /home/studio-lab-user/.conda\n",
    "!conda remove -n \"env_name\" --all\n",
    "!rm -rf /home/studio-lab-user/*"
   ]
  },
  {
   "cell_type": "code",
   "execution_count": null,
   "id": "40cd846b-5168-4114-951c-dbee782454bf",
   "metadata": {
    "tags": []
   },
   "outputs": [],
   "source": [
    "#List of all folders. Make sure that the .conda file is 1.1GB.\n",
    "!du -h --max-depth=1 /home/studio-lab-user"
   ]
  },
  {
   "cell_type": "markdown",
   "id": "f05fa0e9-8141-471e-a9a5-b12cc04a9c94",
   "metadata": {},
   "source": [
    "<b>*Make sure that the .conda file is 1.1GB.*</b><br>\n",
    "*Your Browser Panel (on the left) should be empty.*<br>\n",
    "<b>Don't Forget to restart the Jupyter Lab</b> before continuing with Step 2."
   ]
  },
  {
   "cell_type": "markdown",
   "id": "af2f3f5b-f9ba-4221-92fa-126600e39d9b",
   "metadata": {
    "tags": []
   },
   "source": [
    "<h3><b>Step 2. Install essentials </b>(only first launch and troubleshooting)</h3>\n",
    "This will install conda env, python environments, basics extensions."
   ]
  },
  {
   "cell_type": "code",
   "execution_count": null,
   "id": "7ad40e45-9797-4188-be16-2e6c4d218ddc",
   "metadata": {
    "tags": []
   },
   "outputs": [],
   "source": [
    "#Install all essentials for stable diffusion\n",
    "!conda install -c conda-forge libglib -y & conda update -n base conda -y\n",
    "%conda install -q -y libglib2.0-0\n",
    "%conda install -q -y glib\n",
    "!git clone --depth 1 https://github.com/dreamscapeai/stable-diffusion-webui\n",
    "%cd ~/stable-diffusion-webui\n",
    "\n",
    "!mkdir /home/studio-lab-user/stable-diffusion-webui/outputs\n",
    "\n",
    "%cd /home/studio-lab-user/stable-diffusion-webui/embeddings\n",
    "!git clone --depth 1 https://github.com/dreamscapeai/negativekit\n",
    "!curl -Lo \"/home/studio-lab-user/stable-diffusion-webui/models/ESRGAN/4x-UltraSharp.pth\" \"https://civitai.com/api/download/models/125843\"\n",
    "\n",
    "%cd /home/studio-lab-user/stable-diffusion-webui/extensions\n",
    "!git clone --depth 1 https://github.com/etherealxx/batchlinks-webui\n",
    "!git clone --depth 1 https://github.com/zanllp/sd-webui-infinite-image-browsing\n",
    "!git clone --depth 1 https://github.com/dreamscapeai/CN-v11400\n",
    "!git clone --depth 1 https://github.com/dreamscapeai/adetailer\n",
    "!git clone --depth 1 https://github.com/BlafKing/sd-civitai-browser-plus\n",
    "!git clone --depth 1 https://github.com/dreamscapeai/ultimatesdupscale\n",
    "!git clone --depth 1 https://github.com/dreamscapeai/tagcomplete\n",
    "!git clone --depth 1 https://github.com/IDEA-Research/DWPose"
   ]
  },
  {
   "cell_type": "markdown",
   "id": "2f8db6a2-a6f2-49aa-8037-c591a378c4af",
   "metadata": {
    "jp-MarkdownHeadingCollapsed": true,
    "tags": []
   },
   "source": [
    "<h3><b>Step 3. Downloads Models and Checkpoints </b></h3>\n",
    "Remove the # to activate the desired models and checkpoints."
   ]
  },
  {
   "cell_type": "markdown",
   "id": "7239b575-ac60-46bf-8550-4249a5f3031d",
   "metadata": {},
   "source": [
    "Top 10 Realistic Checkpoints"
   ]
  },
  {
   "cell_type": "code",
   "execution_count": null,
   "id": "413c2597-08ad-4d53-b7a0-93430c4f65fc",
   "metadata": {},
   "outputs": [],
   "source": [
    "#Remove the hashtag for desired checkpoints. Be careful, maximum 2 models recommended. The storage is limited !\n",
    "\n",
    "!rm -rf /home/studio-lab-user/stable-diffusion-webui/models/Stable-diffusion/*\n",
    "!curl -Lo \"/home/studio-lab-user/stable-diffusion-webui/models/Stable-diffusion/Realisticvision51.safetensors\" \"https://civitai.com/api/download/models/130072?type=Model&format=SafeTensor&size=pruned&fp=fp16\"\n",
    "#!curl -Lo \"/home/studio-lab-user/stable-diffusion-webui/models/Stable-diffusion/Epicphotogasm.safetensors\" \"https://civitai.com/api/download/models/145885\"\n",
    "#!curl -Lo \"/home/studio-lab-user/stable-diffusion-webui/models/Stable-diffusion/Epicrealismv5.safetensors\" \"https://civitai.com/api/download/models/134065?type=Model&format=SafeTensor&size=pruned&fp=fp16\"\n",
    "#!curl -Lo \"/home/studio-lab-user/stable-diffusion-webui/models/Stable-diffusion/Cyberrealistic.safetensors\" \"https://civitai.com/api/download/models/138176?type=Model&format=SafeTensor&size=pruned&fp=fp16\"\n",
    "#!curl -Lo \"/home/studio-lab-user/stable-diffusion-webui/models/Stable-diffusion/Majicmix.safetensors\" \"https://civitai.com/api/download/models/94640\"\n",
    "#!curl -Lo \"/home/studio-lab-user/stable-diffusion-webui/models/Stable-diffusion/Absolutereality181.safetensors\" \"https://civitai.com/api/download/models/132760?type=Model&format=SafeTensor&size=pruned&fp=fp16\"\n",
    "#!curl -Lo \"/home/studio-lab-user/stable-diffusion-webui/models/Stable-diffusion/ICBINP.safetensors\" \"https://civitai.com/api/download/models/121557?type=Model&format=SafeTensor&size=pruned&fp=fp16\"\n",
    "#!curl -Lo \"/home/studio-lab-user/stable-diffusion-webui/models/Stable-diffusion/Photon.safetensors\" \"https://civitai.com/api/download/models/90072\"\n",
    "#!curl -Lo \"/home/studio-lab-user/stable-diffusion-webui/models/Stable-diffusion/chilloutmix.safetensors\" \"https://civitai.com/api/download/models/11745\"\n",
    "#!curl -Lo \"/home/studio-lab-user/stable-diffusion-webui/models/Stable-diffusion/Juggernaut.safetensors\" \"https://civitai.com/api/download/models/11745\""
   ]
  },
  {
   "cell_type": "markdown",
   "id": "9e365285-86f2-4a0b-bcdc-b0c169161083",
   "metadata": {},
   "source": [
    "Controlnet Models"
   ]
  },
  {
   "cell_type": "code",
   "execution_count": null,
   "id": "761d85cf-9136-4bee-81bc-327ab71850c7",
   "metadata": {},
   "outputs": [],
   "source": [
    "#Choose only few Controlnet Models. The storage is limited !\n",
    "!curl -Lo \"/home/studio-lab-user/stable-diffusion-webui/extensions/CN-v11400/models/openpose.safetensors\" \"https://huggingface.co/ckpt/ControlNet-v1-1/resolve/main/control_v11p_sd15_openpose_fp16.safetensors\"\n",
    "#!curl -Lo \"/home/studio-lab-user/stable-diffusion-webui/extensions/CN-v11400/models/shuffle.safetensors\" \"https://huggingface.co/ckpt/ControlNet-v1-1/resolve/main/control_v11e_sd15_shuffle_fp16.safetensors\"\n",
    "#!curl -Lo \"/home/studio-lab-user/stable-diffusion-webui/extensions/CN-v11400/models/canny.safetensors\" \"https://huggingface.co/ckpt/ControlNet-v1-1/resolve/main/control_v11p_sd15_canny_fp16.safetensors\"\n",
    "#!curl -Lo \"/home/studio-lab-user/stable-diffusion-webui/extensions/CN-v11400/models/depth.safetensors\" \"https://huggingface.co/ckpt/ControlNet-v1-1/resolve/main/control_v11f1p_sd15_depth_fp16.safetensors\"\n",
    "#!curl -Lo \"/home/studio-lab-user/stable-diffusion-webui/extensions/CN-v11400/models/tile.safetensors\" \"https://huggingface.co/ckpt/ControlNet-v1-1/resolve/main/control_v11f1e_sd15_tile_fp16.safetensors\"\n",
    "#!curl -Lo \"/home/studio-lab-user/stable-diffusion-webui/extensions/CN-v11400/models/inpaint.safetensors\" \"https://huggingface.co/ckpt/ControlNet-v1-1/resolve/main/control_v11p_sd15_inpaint_fp16.safetensors\"\n",
    "#!curl -Lo \"/home/studio-lab-user/stable-diffusion-webui/extensions/CN-v11400/models/lineart.safetensors\" \"https://huggingface.co/ckpt/ControlNet-v1-1/resolve/main/control_v11p_sd15_lineart_fp16.safetensors\"\n",
    "#!curl -Lo \"/home/studio-lab-user/stable-diffusion-webui/extensions/CN-v11400/models/mlsd.safetensors\" \"https://huggingface.co/ckpt/ControlNet-v1-1/resolve/main/control_v11p_sd15_mlsd_fp16.safetensors\"\n",
    "#!curl -Lo \"/home/studio-lab-user/stable-diffusion-webui/extensions/CN-v11400/models/normalbae.safetensors\" \"https://huggingface.co/ckpt/ControlNet-v1-1/resolve/main/control_v11p_sd15_normalbae_fp16.safetensors\"\n",
    "#!curl -Lo \"/home/studio-lab-user/stable-diffusion-webui/extensions/CN-v11400/models/scribble.safetensors\" \"https://huggingface.co/ckpt/ControlNet-v1-1/resolve/main/control_v11p_sd15_scribble_fp16.safetensors\"\n",
    "#!curl -Lo \"/home/studio-lab-user/stable-diffusion-webui/extensions/CN-v11400/models/softedge.safetensors\" \"https://huggingface.co/ckpt/ControlNet-v1-1/resolve/main/control_v11p_sd15_softedge_fp16.safetensors\"\n",
    "#!curl -Lo \"/home/studio-lab-user/stable-diffusion-webui/extensions/CN-v11400/models/lineart_anime.safetensors\" \"https://huggingface.co/ckpt/ControlNet-v1-1/resolve/main/control_v11p_sd15s2_lineart_anime_fp16.safetensors\"\n",
    "\n",
    "# Method 1 : Install lora with Batchlinks extensions (later in webui)\n",
    "!mkdir /home/studio-lab-user/stable-diffusion-webui/models/Lora\n",
    "# Method 2 : Download lora manually here\n",
    "!curl -Lo \"/home/studio-lab-user/stable-diffusion-webui/models/Lora/adddetailer.safetensors\" \"https://civitai.com/api/download/models/62833\"\n",
    "!curl -Lo \"/home/studio-lab-user/stable-diffusion-webui/models/Lora/epinoiseoffset.safetensors\" \"https://civitai.com/api/download/models/16576?type=Model&format=SafeTensor&size=full&fp=fp16\""
   ]
  },
  {
   "cell_type": "markdown",
   "id": "6a87cf1c-7b77-4618-9576-c7e4181dde49",
   "metadata": {
    "tags": []
   },
   "source": [
    "<h3><b>Step 4. BOOT LAUNCHER WEBUI</b></h3>\n",
    "Don't forget to paste your NGROK token below. Create a <a href=\"https://dashboard.ngrok.com/get-started/your-authtoken\">Ngrok account here</a>"
   ]
  },
  {
   "cell_type": "code",
   "execution_count": null,
   "id": "9ea3ea45-056c-4863-a06a-3f7422bf7e20",
   "metadata": {
    "tags": []
   },
   "outputs": [],
   "source": [
    "#Don't forget to paste your NGROK token here\n",
    "%cd ~/stable-diffusion-webui\n",
    "!python launch.py --ngrok PASTE_YOUR_TOKEN_HERE --listen --xformers --enable-insecure-extension-access --theme dark --gradio-queue "
   ]
  },
  {
   "cell_type": "markdown",
   "id": "c9058578-7096-44ce-8ea2-0153cf151c44",
   "metadata": {
    "jp-MarkdownHeadingCollapsed": true,
    "tags": []
   },
   "source": [
    "<h3><b>Step 5. Download all your outputs</b></h3>\n",
    "Don't forget to save your images. Recommended to save after each session."
   ]
  },
  {
   "cell_type": "code",
   "execution_count": 7,
   "id": "fdeece9b-7e0a-4c93-aec2-6d96b95cdc84",
   "metadata": {
    "tags": []
   },
   "outputs": [],
   "source": [
    "#download and compress all outputs. If more than 200mb, it will zip in multiple files.\n",
    "import os\n",
    "import zipfile\n",
    "def zip_folder(input_folder, output_folder, max_size_mb=20):\n",
    "    # Create the output folder if it doesn't exist\n",
    "    os.makedirs(output_folder, exist_ok=True)\n",
    "    zip_number = 1\n",
    "    current_zip_size = 0\n",
    "    current_zip_name = os.path.join(output_folder, f\"part_{zip_number}.zip\")    \n",
    "    with zipfile.ZipFile(current_zip_name, 'w', zipfile.ZIP_DEFLATED) as current_zip:\n",
    "        for root, _, files in os.walk(input_folder):\n",
    "            for file in files:\n",
    "                file_path = os.path.join(root, file)\n",
    "                file_size = os.path.getsize(file_path)           \n",
    "                # Check if adding the current file exceeds the max size\n",
    "                if current_zip_size + file_size > max_size_mb * 1024 * 1024:\n",
    "                    # Close the current zip file\n",
    "                    current_zip.close()             \n",
    "                    # Start a new zip file\n",
    "                    zip_number += 1\n",
    "                    current_zip_name = os.path.join(output_folder, f\"part_{zip_number}.zip\")\n",
    "                    current_zip = zipfile.ZipFile(current_zip_name, 'w', zipfile.ZIP_DEFLATED)\n",
    "                    current_zip_size = 0  \n",
    "                # Add the file to the current zip\n",
    "                current_zip.write(file_path, os.path.relpath(file_path, input_folder))\n",
    "                current_zip_size += file_size\n",
    "# Specify the input folder to be zipped\n",
    "input_folder = 'stable-diffusion-webui/outputs/txt2img-images'  # Replace with the path to your input folder\n",
    "# Specify the output folder where zip files will be saved\n",
    "output_folder = 'zip folder'  # Replace with the path to your output folder\n",
    "# Specify the maximum size for each zip file in MB\n",
    "max_size_mb = 200\n",
    "# Create zip files with a maximum size of 20MB\n",
    "zip_folder(input_folder, output_folder, max_size_mb)"
   ]
  },
  {
   "cell_type": "code",
   "execution_count": null,
   "id": "b8a56c3a-f0af-4c87-bf83-c99942a3a3b0",
   "metadata": {},
   "outputs": [],
   "source": [
    "#delete and empty the OUTPUT folder\n",
    "!rm -rf /home/studio-lab-user/stable-diffusion-webui/outputs/*"
   ]
  },
  {
   "cell_type": "markdown",
   "id": "1d0a3313-0c65-44ef-b89e-459fa779e84b",
   "metadata": {
    "jp-MarkdownHeadingCollapsed": true,
    "tags": []
   },
   "source": [
    "<h4><b> TROUBLESHOOTING </b></h4>\n",
    "If your setup folder doesn't have problem, skip this step."
   ]
  },
  {
   "cell_type": "code",
   "execution_count": 5,
   "id": "aaea3473-1ac6-40d8-98c2-a29386ca147e",
   "metadata": {
    "tags": []
   },
   "outputs": [
    {
     "name": "stdout",
     "output_type": "stream",
     "text": [
      "312M\t/home/studio-lab-user/stable-diffusion-webui/outputs/txt2img-images\n",
      "312M\t/home/studio-lab-user/stable-diffusion-webui/outputs\n"
     ]
    }
   ],
   "source": [
    "#List all folders and sizes\n",
    "!du -h --max-depth=1 /home/studio-lab-user/stable-diffusion-webui/outputs"
   ]
  },
  {
   "cell_type": "code",
   "execution_count": null,
   "id": "02ccc281-c43a-4bc7-9b97-adf6bea6f8f6",
   "metadata": {
    "tags": []
   },
   "outputs": [],
   "source": [
    "!conda list"
   ]
  },
  {
   "cell_type": "code",
   "execution_count": null,
   "id": "ab02c781-46ea-4f07-8c4b-f329069d903b",
   "metadata": {
    "tags": []
   },
   "outputs": [],
   "source": [
    "#clean remove all env, cache and file\n",
    "!rm -r /home/studio-lab-user/.cache\n",
    "!rm -r /home/studio-lab-user/.stable-diffusion-webui\n",
    "!conda remove -n \"env_name\" --all\n",
    "!rm -rf /home/studio-lab-user/*"
   ]
  },
  {
   "cell_type": "markdown",
   "id": "baaf8967-78f3-4b63-9427-313bffa67a93",
   "metadata": {},
   "source": []
  },
  {
   "cell_type": "markdown",
   "id": "bf5499c3-18fb-4325-8c37-5298751e4f97",
   "metadata": {},
   "source": [
    "MORE TROUBLESHOOTING"
   ]
  },
  {
   "cell_type": "code",
   "execution_count": null,
   "id": "38f3b678-ce14-47c8-b8ca-5b2295fc628c",
   "metadata": {},
   "outputs": [],
   "source": [
    "%cd ~/stable-diffusion-webui\n",
    "!pip install -r requirements.txt"
   ]
  },
  {
   "cell_type": "code",
   "execution_count": null,
   "id": "6c7131fd-9ce7-4c3c-861c-a3acc252c086",
   "metadata": {
    "tags": []
   },
   "outputs": [],
   "source": [
    "%cd ~/stable-diffusion-webui\n",
    "!python launch.py --listen --xformers --enable-insecure-extension-access --theme dark --ngrok auth"
   ]
  },
  {
   "cell_type": "code",
   "execution_count": null,
   "id": "5bb61644-e972-402e-aff6-c6445ff99965",
   "metadata": {
    "tags": []
   },
   "outputs": [],
   "source": [
    "import torch\n",
    "torch.cuda.get_device_name(0)"
   ]
  },
  {
   "cell_type": "code",
   "execution_count": null,
   "id": "d6a8c055-4668-40cd-aa41-8bc6474c9ff0",
   "metadata": {
    "tags": []
   },
   "outputs": [],
   "source": [
    "import torch\n",
    "print(torch.version.cuda)"
   ]
  },
  {
   "cell_type": "code",
   "execution_count": null,
   "id": "6b3f9867-000e-43f4-9b04-ae5c0d9166bd",
   "metadata": {
    "tags": []
   },
   "outputs": [],
   "source": [
    "!pip uninstall torchvision -y"
   ]
  },
  {
   "cell_type": "code",
   "execution_count": null,
   "id": "2d990595-7f34-4946-9a21-197306222434",
   "metadata": {
    "tags": []
   },
   "outputs": [],
   "source": [
    "!pip install torchvision==0.10.0"
   ]
  },
  {
   "cell_type": "code",
   "execution_count": null,
   "id": "5b85fa10-c03f-4942-a227-02d1cbe90f4a",
   "metadata": {
    "tags": []
   },
   "outputs": [],
   "source": [
    "!pip install torch==1.10.0"
   ]
  },
  {
   "cell_type": "code",
   "execution_count": null,
   "id": "abc7178a-c5b7-4722-8e9e-728308d83d70",
   "metadata": {
    "tags": []
   },
   "outputs": [],
   "source": [
    "!pip install xformers==0.0.20 tomesd==0.1.3 pytorch-lightning==1.9.4 accelerate==0.21.0"
   ]
  },
  {
   "cell_type": "code",
   "execution_count": null,
   "id": "577b9843-0e8c-4dd8-aa02-8eaf8c51f1d8",
   "metadata": {
    "tags": []
   },
   "outputs": [],
   "source": [
    "!conda install -c conda-forge libglib -y"
   ]
  },
  {
   "cell_type": "code",
   "execution_count": null,
   "id": "f24321a3-700a-47e9-8995-0893dd2f834f",
   "metadata": {},
   "outputs": [],
   "source": []
  }
 ],
 "metadata": {
  "kernelspec": {
   "display_name": "default:Python",
   "language": "python",
   "name": "conda-env-default-py"
  },
  "language_info": {
   "codemirror_mode": {
    "name": "ipython",
    "version": 3
   },
   "file_extension": ".py",
   "mimetype": "text/x-python",
   "name": "python",
   "nbconvert_exporter": "python",
   "pygments_lexer": "ipython3",
   "version": "3.9.16"
  }
 },
 "nbformat": 4,
 "nbformat_minor": 5
}
