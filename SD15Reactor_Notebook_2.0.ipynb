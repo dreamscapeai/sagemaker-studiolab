{
 "cells": [
  {
   "cell_type": "markdown",
   "id": "23bf0d68-cd40-4803-bf04-7ede3e53b524",
   "metadata": {},
   "source": [
    "<center><span style=\"font-size: 24px;font-weight: bold\">SD1.5 with Reactor - Dreamscape Notebook 2.0</span></center>\n",
    "<center>Follow tutorial on my  <a href=\"www.youtube.com/@dreamscapeyoutube\">Youtube Channel</a>. Join our <a href=\"https://discord.gg/VCqcfZH2jV\">Discord Community</a> for support.</center>"
   ]
  },
  {
   "cell_type": "markdown",
   "id": "e4dd09f1-eb19-4fd1-ae06-fc8c604366fb",
   "metadata": {
    "jp-MarkdownHeadingCollapsed": true,
    "tags": []
   },
   "source": [
    "<h4><b>🧼 Step 1. Fresh Clean Environments </b>(launch if it's your first start)</h4>\n",
    "If you have a healthy and working install, SKIP to STEP 3. This can be launched in CPU mode."
   ]
  },
  {
   "cell_type": "code",
   "execution_count": null,
   "id": "ea5bcd71-2b71-4d27-90c1-053444ef33f0",
   "metadata": {
    "tags": []
   },
   "outputs": [],
   "source": [
    "!rm -r /home/studio-lab-user/.cache\n",
    "!rm -r /home/studio-lab-user/.conda\n",
    "!conda remove -n \"env_name\" --all\n",
    "!rm -rf /home/studio-lab-user/*"
   ]
  },
  {
   "cell_type": "markdown",
   "id": "f05fa0e9-8141-471e-a9a5-b12cc04a9c94",
   "metadata": {},
   "source": [
    "☢️*Your Browser Panel (on the left) should be empty.*<br>\n",
    "☢️You need to **restart the Jupyter Lab now** (before running next cell)."
   ]
  },
  {
   "cell_type": "code",
   "execution_count": null,
   "id": "c55242c5-3887-4dd4-a384-0b480b0d11f1",
   "metadata": {
    "tags": []
   },
   "outputs": [],
   "source": [
    "import subprocess\n",
    "result = subprocess.run(['du', '-h', '--max-depth=1', '/home/studio-lab-user'], capture_output=True, text=True)\n",
    "if '1.1G\\t/home/studio-lab-user/.conda' in result.stdout:\n",
    "    print(\"Ok, your conda is clean (1.1GB) please continue with Step 2\")"
   ]
  },
  {
   "cell_type": "markdown",
   "id": "af2f3f5b-f9ba-4221-92fa-126600e39d9b",
   "metadata": {
    "jp-MarkdownHeadingCollapsed": true,
    "tags": []
   },
   "source": [
    "<h4><b>🔥 Step 2. Install essentials </b>(launch if it's your first start)</h4>\n",
    "This will install essentials. This can be launched in CPU mode. Be patient it might take a while."
   ]
  },
  {
   "cell_type": "code",
   "execution_count": null,
   "id": "ac5a35de-ce70-4c71-9aa5-868740f5aa24",
   "metadata": {},
   "outputs": [],
   "source": [
    "import subprocess\n",
    "def run_command(command, message):\n",
    "    print(f\"Please wait, {message} is loading...\")\n",
    "    subprocess.run(command, shell=True, stdout=subprocess.DEVNULL, stderr=subprocess.DEVNULL)\n",
    "    print(f\"{message} completed!\")\n",
    "run_command('conda install conda -y', 'Conda')\n",
    "run_command('conda update -n base conda -y', 'Update')\n",
    "run_command('conda install -n base python=3.10 -y', 'Python')\n",
    "run_command('conda install -q -y glib', 'glib')\n",
    "print(\"Congratulations. Your Python version now is:\")\n",
    "!python --version"
   ]
  },
  {
   "cell_type": "code",
   "execution_count": null,
   "id": "7ad40e45-9797-4188-be16-2e6c4d218ddc",
   "metadata": {
    "scrolled": true,
    "tags": []
   },
   "outputs": [],
   "source": [
    "#Install all essentials for stable diffusion\n",
    "%cd /home/studio-lab-user/\n",
    "!git clone --depth 1 https://github.com/dreamscapeai/stable-diffusion-webui\n",
    "%cd /home/studio-lab-user/stable-diffusion-webui/embeddings\n",
    "!git clone --depth 1 https://github.com/dreamscapeai/negativekit\n",
    "!mkdir /home/studio-lab-user/stable-diffusion-webui/models/ESRGAN/\n",
    "!curl -Lo \"/home/studio-lab-user/stable-diffusion-webui/models/ESRGAN/4x-UltraSharp.pth\" \"https://civitai.com/api/download/models/125843\"\n",
    "%cd /home/studio-lab-user/stable-diffusion-webui/extensions\n",
    "!git clone --depth 1 https://github.com/ahgsql/StyleSelectorXL\n",
    "!git clone --depth 1 https://github.com/etherealxx/batchlinks-webui\n",
    "!git clone --depth 1 https://github.com/zanllp/sd-webui-infinite-image-browsing\n",
    "!git clone --depth 1 https://github.com/dreamscapeai/CN-v11400\n",
    "!git clone --depth 1 https://github.com/dreamscapeai/ultimatesdupscale\n",
    "!git clone --depth 1 https://github.com/dreamscapeai/tagcomplete\n",
    "!git clone --depth 1 https://github.com/IDEA-Research/DWPose\n",
    "!git clone --depth 1 https://github.com/Bing-su/adetailer"
   ]
  },
  {
   "cell_type": "code",
   "execution_count": null,
   "id": "8e593127-c452-45f9-a71a-f4868c372216",
   "metadata": {
    "scrolled": true,
    "tags": []
   },
   "outputs": [],
   "source": [
    "#Install Reactor Essentials\n",
    "%cd /home/studio-lab-user/stable-diffusion-webui/extensions\n",
    "!git clone https://github.com/Gourieff/sd-webui-reactor\n",
    "!mkdir /home/studio-lab-user/stable-diffusion-webui/models/insightface\n",
    "!pip install onnx\n",
    "!pip install onnxruntime\n",
    "!pip install opencv-python\n",
    "!pip install tqdm\n",
    "!pip install insightface==0.7.3\n",
    "!pip uninstall scipy -y\n",
    "!pip install scipy\n",
    "!curl -Lo \"/home/studio-lab-user/stable-diffusion-webui/models/insightface/inswapper_128.onnx\" \"https://github.com/facefusion/facefusion-assets/releases/download/models/inswapper_128.onnx\""
   ]
  },
  {
   "cell_type": "markdown",
   "id": "2f8db6a2-a6f2-49aa-8037-c591a378c4af",
   "metadata": {
    "jp-MarkdownHeadingCollapsed": true,
    "tags": []
   },
   "source": [
    "<h4><b>💾 Step 3. Downloads Models </b></h4>\n",
    "The model are downloaded in tmp folder, which will be emptied at every new runtime. This must be launched in GPU mode."
   ]
  },
  {
   "cell_type": "code",
   "execution_count": null,
   "id": "7264a7c8-4386-4996-8da7-babb387770d6",
   "metadata": {
    "tags": []
   },
   "outputs": [],
   "source": [
    "#Checkpoints. You can now download more than one model thanks to tmp_models.\n",
    "!rm -rf /home/studio-lab-user/tmp\n",
    "!ln -vs /tmp ~/tmp\n",
    "!ln -vs /tmp/models /home/studio-lab-user/stable-diffusion-webui/models/Stable-diffusion/tmp_models\n",
    "!mkdir -p /tmp/models\n",
    "%cd ~/stable-diffusion-webui/models/Stable-diffusion/tmp_models\n",
    "!curl -Lo \"/home/studio-lab-user/stable-diffusion-webui/models/Stable-diffusion/tmp_models/Realisticvision51.safetensors\" \"https://civitai.com/api/download/models/130072?type=Model&format=SafeTensor&size=pruned&fp=fp16\"\n",
    "!curl -Lo \"/home/studio-lab-user/stable-diffusion-webui/models/Stable-diffusion/tmp_models/Epicphotogasm.safetensors\" \"https://civitai.com/api/download/models/145885\"\n",
    "#!curl -Lo \"/home/studio-lab-user/stable-diffusion-webui/models/Stable-diffusion/tmp_models/Epicrealismv5.safetensors\" \"https://civitai.com/api/download/models/134065?type=Model&format=SafeTensor&size=pruned&fp=fp16\"\n",
    "#!curl -Lo \"/home/studio-lab-user/stable-diffusion-webui/models/Stable-diffusion/tmp_models/Cyberrealistic.safetensors\" \"https://civitai.com/api/download/models/138176?type=Model&format=SafeTensor&size=pruned&fp=fp16\"\n",
    "#!curl -Lo \"/home/studio-lab-user/stable-diffusion-webui/models/Stable-diffusion/tmp_models/Majicmix.safetensors\" \"https://civitai.com/api/download/models/94640\"\n",
    "#!curl -Lo \"/home/studio-lab-user/stable-diffusion-webui/models/Stable-diffusion/tmp_models/Absolutereality181.safetensors\" \"https://civitai.com/api/download/models/132760?type=Model&format=SafeTensor&size=pruned&fp=fp16\"\n",
    "#!curl -Lo \"/home/studio-lab-user/stable-diffusion-webui/models/Stable-diffusion/tmp_models/ICBINP.safetensors\" \"https://civitai.com/api/download/models/121557?type=Model&format=SafeTensor&size=pruned&fp=fp16\"\n",
    "#!curl -Lo \"/home/studio-lab-user/stable-diffusion-webui/models/Stable-diffusion/tmp_models/Photon.safetensors\" \"https://civitai.com/api/download/models/90072\"\n",
    "#!curl -Lo \"/home/studio-lab-user/stable-diffusion-webui/models/Stable-diffusion/tmp_models/chilloutmix.safetensors\" \"https://civitai.com/api/download/models/11745\"\n",
    "#!curl -Lo \"/home/studio-lab-user/stable-diffusion-webui/models/Stable-diffusion/tmp_models/Juggernaut.safetensors\" \"https://civitai.com/api/download/models/11745\""
   ]
  },
  {
   "cell_type": "code",
   "execution_count": null,
   "id": "9ab0dbab-2ab6-4f03-9dba-81e88b3bd2d5",
   "metadata": {
    "scrolled": true,
    "tags": []
   },
   "outputs": [],
   "source": [
    "#Controlnet. Thanks to tmp folder, you can now download all controlnet model at once without reaching storage limit.\n",
    "!rm -rf /home/studio-lab-user/tmp/controlnet_models\n",
    "!mkdir -p /tmp/controlnet_models\n",
    "!ln -vs /tmp/controlnet_models /home/studio-lab-user/stable-diffusion-webui/extensions/CN-v11400/models/\n",
    "!curl -Lo \"/home/studio-lab-user/stable-diffusion-webui/extensions/CN-v11400/models/controlnet_models/openpose.safetensors\" \"https://huggingface.co/ckpt/ControlNet-v1-1/resolve/main/control_v11p_sd15_openpose_fp16.safetensors\"\n",
    "!curl -Lo \"/home/studio-lab-user/stable-diffusion-webui/extensions/CN-v11400/models/controlnet_models/shuffle.safetensors\" \"https://huggingface.co/ckpt/ControlNet-v1-1/resolve/main/control_v11e_sd15_shuffle_fp16.safetensors\"\n",
    "!curl -Lo \"/home/studio-lab-user/stable-diffusion-webui/extensions/CN-v11400/models/controlnet_models/canny.safetensors\" \"https://huggingface.co/ckpt/ControlNet-v1-1/resolve/main/control_v11p_sd15_canny_fp16.safetensors\"\n",
    "!curl -Lo \"/home/studio-lab-user/stable-diffusion-webui/extensions/CN-v11400/models/controlnet_models/depth.safetensors\" \"https://huggingface.co/ckpt/ControlNet-v1-1/resolve/main/control_v11f1p_sd15_depth_fp16.safetensors\"\n",
    "!curl -Lo \"/home/studio-lab-user/stable-diffusion-webui/extensions/CN-v11400/models/controlnet_models/tile.safetensors\" \"https://huggingface.co/ckpt/ControlNet-v1-1/resolve/main/control_v11f1e_sd15_tile_fp16.safetensors\"\n",
    "!curl -Lo \"/home/studio-lab-user/stable-diffusion-webui/extensions/CN-v11400/models/controlnet_models/inpaint.safetensors\" \"https://huggingface.co/ckpt/ControlNet-v1-1/resolve/main/control_v11p_sd15_inpaint_fp16.safetensors\"\n",
    "!curl -Lo \"/home/studio-lab-user/stable-diffusion-webui/extensions/CN-v11400/models/controlnet_models/lineart.safetensors\" \"https://huggingface.co/ckpt/ControlNet-v1-1/resolve/main/control_v11p_sd15_lineart_fp16.safetensors\"\n",
    "!curl -Lo \"/home/studio-lab-user/stable-diffusion-webui/extensions/CN-v11400/models/controlnet_models/mlsd.safetensors\" \"https://huggingface.co/ckpt/ControlNet-v1-1/resolve/main/control_v11p_sd15_mlsd_fp16.safetensors\"\n",
    "!curl -Lo \"/home/studio-lab-user/stable-diffusion-webui/extensions/CN-v11400/models/controlnet_models/normalbae.safetensors\" \"https://huggingface.co/ckpt/ControlNet-v1-1/resolve/main/control_v11p_sd15_normalbae_fp16.safetensors\"\n",
    "!curl -Lo \"/home/studio-lab-user/stable-diffusion-webui/extensions/CN-v11400/models/controlnet_models/scribble.safetensors\" \"https://huggingface.co/ckpt/ControlNet-v1-1/resolve/main/control_v11p_sd15_scribble_fp16.safetensors\"\n",
    "!curl -Lo \"/home/studio-lab-user/stable-diffusion-webui/extensions/CN-v11400/models/controlnet_models/softedge.safetensors\" \"https://huggingface.co/ckpt/ControlNet-v1-1/resolve/main/control_v11p_sd15_softedge_fp16.safetensors\"\n",
    "!curl -Lo \"/home/studio-lab-user/stable-diffusion-webui/extensions/CN-v11400/models/controlnet_models/lineart_anime.safetensors\" \"https://huggingface.co/ckpt/ControlNet-v1-1/resolve/main/control_v11p_sd15s2_lineart_anime_fp16.safetensors\""
   ]
  },
  {
   "cell_type": "code",
   "execution_count": null,
   "id": "08cc20d4-3cb7-45b9-8ca7-506abe0cf79c",
   "metadata": {
    "tags": []
   },
   "outputs": [],
   "source": [
    "#Check your available storage\n",
    "!df -h | grep -E 'Avail|home'"
   ]
  },
  {
   "cell_type": "markdown",
   "id": "6a87cf1c-7b77-4618-9576-c7e4181dde49",
   "metadata": {
    "tags": []
   },
   "source": [
    "<h4><b>🌟 Step 4. BOOT LAUNCHER WEBUI (MUST BE in GPU Mode)</b></h4> \n",
    "Don't forget to paste your NGROK token below. Create one token here https://dashboard.ngrok.com/get-started/your-authtoken"
   ]
  },
  {
   "cell_type": "code",
   "execution_count": null,
   "id": "9ea3ea45-056c-4863-a06a-3f7422bf7e20",
   "metadata": {
    "scrolled": true,
    "tags": []
   },
   "outputs": [],
   "source": [
    "#Don't forget to paste your NGROK token here\n",
    "%cd ~/stable-diffusion-webui\n",
    "!python launch.py --ngrok PASTE_YOUR_TOKEN_HERE --listen --xformers --no-half-vae --enable-insecure-extension-access --theme dark --gradio-queue"
   ]
  },
  {
   "cell_type": "markdown",
   "id": "c9058578-7096-44ce-8ea2-0153cf151c44",
   "metadata": {
    "jp-MarkdownHeadingCollapsed": true,
    "tags": []
   },
   "source": [
    "<h4><b>🖼️ Step 5. Download all your outputs</b></h4>\n",
    "If your setup folder doesn't have problem, skip this step."
   ]
  },
  {
   "cell_type": "code",
   "execution_count": null,
   "id": "fdeece9b-7e0a-4c93-aec2-6d96b95cdc84",
   "metadata": {
    "tags": []
   },
   "outputs": [],
   "source": [
    "#download and compress all outputs\n",
    "import os\n",
    "import zipfile\n",
    "def zip_folder(input_folder, output_folder, max_size_mb=20):\n",
    "    # Create the output folder if it doesn't exist\n",
    "    os.makedirs(output_folder, exist_ok=True)\n",
    "    zip_number = 1\n",
    "    current_zip_size = 0\n",
    "    current_zip_name = os.path.join(output_folder, f\"part_{zip_number}.zip\")    \n",
    "    with zipfile.ZipFile(current_zip_name, 'w', zipfile.ZIP_DEFLATED) as current_zip:\n",
    "        for root, _, files in os.walk(input_folder):\n",
    "            for file in files:\n",
    "                file_path = os.path.join(root, file)\n",
    "                file_size = os.path.getsize(file_path)           \n",
    "                # Check if adding the current file exceeds the max size\n",
    "                if current_zip_size + file_size > max_size_mb * 1024 * 1024:\n",
    "                    # Close the current zip file\n",
    "                    current_zip.close()             \n",
    "                    # Start a new zip file\n",
    "                    zip_number += 1\n",
    "                    current_zip_name = os.path.join(output_folder, f\"part_{zip_number}.zip\")\n",
    "                    current_zip = zipfile.ZipFile(current_zip_name, 'w', zipfile.ZIP_DEFLATED)\n",
    "                    current_zip_size = 0  \n",
    "                # Add the file to the current zip\n",
    "                current_zip.write(file_path, os.path.relpath(file_path, input_folder))\n",
    "                current_zip_size += file_size\n",
    "# Specify the input folder to be zipped\n",
    "input_folder = 'stable-diffusion-webui/outputs/txt2img-images'  # Replace with the path to your input folder\n",
    "# Specify the output folder where zip files will be saved\n",
    "output_folder = 'outputs'  # Replace with the path to your output folder\n",
    "# Specify the maximum size for each zip file in MB\n",
    "max_size_mb = 199\n",
    "# Create zip files with a maximum size of 20MB\n",
    "zip_folder(input_folder, output_folder, max_size_mb)"
   ]
  },
  {
   "cell_type": "code",
   "execution_count": null,
   "id": "b8a56c3a-f0af-4c87-bf83-c99942a3a3b0",
   "metadata": {},
   "outputs": [],
   "source": [
    "#delete and empty the OUTPUT folder\n",
    "!rm -rf /home/studio-lab-user/stable-diffusion-webui/outputs/*"
   ]
  }
 ],
 "metadata": {
  "kernelspec": {
   "display_name": "default:Python",
   "language": "python",
   "name": "conda-env-default-py"
  },
  "language_info": {
   "codemirror_mode": {
    "name": "ipython",
    "version": 3
   },
   "file_extension": ".py",
   "mimetype": "text/x-python",
   "name": "python",
   "nbconvert_exporter": "python",
   "pygments_lexer": "ipython3",
   "version": "3.10.13"
  }
 },
 "nbformat": 4,
 "nbformat_minor": 5
}
