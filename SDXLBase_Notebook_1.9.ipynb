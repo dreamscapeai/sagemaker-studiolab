{
 "cells": [
  {
   "cell_type": "markdown",
   "id": "23bf0d68-cd40-4803-bf04-7ede3e53b524",
   "metadata": {},
   "source": [
    "<center><span style=\"font-size: 24px;font-weight: bold\">SDXL Models - Dreamscape Notebook 1.9</span></center>\n",
    "<center>Follow tutorial on my  <a href=\"www.youtube.com/@dreamscapeyoutube\">Youtube Channel</a>. Join our <a href=\"https://discord.gg/VCqcfZH2jV\">Discord Community</a> for support.</center>"
   ]
  },
  {
   "cell_type": "markdown",
   "id": "e4dd09f1-eb19-4fd1-ae06-fc8c604366fb",
   "metadata": {
    "jp-MarkdownHeadingCollapsed": true,
    "tags": []
   },
   "source": [
    "<h4><b>🧼 Step 1. Fresh Clean Environments </b>(launch if it's your first start)</h4>\n",
    "If you have a healthy and working install, SKIP to STEP 3. This can be launched in CPU mode."
   ]
  },
  {
   "cell_type": "code",
   "execution_count": null,
   "id": "ea5bcd71-2b71-4d27-90c1-053444ef33f0",
   "metadata": {
    "tags": []
   },
   "outputs": [],
   "source": [
    "!rm -r /home/studio-lab-user/.cache\n",
    "!rm -r /home/studio-lab-user/.conda\n",
    "!conda remove -n \"env_name\" --all\n",
    "!rm -rf /home/studio-lab-user/*"
   ]
  },
  {
   "cell_type": "markdown",
   "id": "f05fa0e9-8141-471e-a9a5-b12cc04a9c94",
   "metadata": {},
   "source": [
    "☢️*Your Browser Panel (on the left) should be empty.*<br>\n",
    "☢️You need to restart the Jupyter Lab now (before running next cell)."
   ]
  },
  {
   "cell_type": "code",
   "execution_count": null,
   "id": "c55242c5-3887-4dd4-a384-0b480b0d11f1",
   "metadata": {
    "tags": []
   },
   "outputs": [],
   "source": [
    "import subprocess\n",
    "\n",
    "# Run the command and capture the output\n",
    "result = subprocess.run(['du', '-h', '--max-depth=1', '/home/studio-lab-user'], capture_output=True, text=True)\n",
    "\n",
    "# Check if the desired line is present in the output\n",
    "if '1.1G\\t/home/studio-lab-user/.conda' in result.stdout:\n",
    "    print(\"Ok, your conda is clean (1.1GB) please continue with Step 2\")"
   ]
  },
  {
   "cell_type": "markdown",
   "id": "af2f3f5b-f9ba-4221-92fa-126600e39d9b",
   "metadata": {
    "jp-MarkdownHeadingCollapsed": true,
    "tags": []
   },
   "source": [
    "<h4><b>🔥 Step 2. Install essentials </b>(launch if it's your first start)</h4>\n",
    "This will install essentials. This can be launched in CPU mode. Be patient it might take a while."
   ]
  },
  {
   "cell_type": "code",
   "execution_count": null,
   "id": "7ad40e45-9797-4188-be16-2e6c4d218ddc",
   "metadata": {
    "scrolled": true,
    "tags": []
   },
   "outputs": [],
   "source": [
    "#Install all essentials for stable diffusion\n",
    "!conda install -c conda-forge libglib -y & conda update -n base conda -y\n",
    "%conda install -q -y aria2\n",
    "%conda install -q -y libglib2.0-0\n",
    "%conda install -q -y glib\n",
    "%cd /home/studio-lab-user/\n",
    "!git clone --depth 1 https://github.com/dreamscapeai/stable-diffusion-webui\n",
    "%cd /home/studio-lab-user/stable-diffusion-webui/embeddings\n",
    "!git clone --depth 1 https://github.com/dreamscapeai/negativekit\n",
    "%cd /home/studio-lab-user/stable-diffusion-webui/extensions\n",
    "!git clone --depth 1 https://github.com/ahgsql/StyleSelectorXL\n",
    "!git clone --depth 1 https://github.com/etherealxx/batchlinks-webui\n",
    "!git clone --depth 1 https://github.com/zanllp/sd-webui-infinite-image-browsing\n",
    "!git clone --depth 1 https://github.com/dreamscapeai/ultimatesdupscale\n",
    "!git clone --depth 1 https://github.com/dreamscapeai/tagcomplete\n",
    "!git clone --depth 1 https://github.com/IDEA-Research/DWPose"
   ]
  },
  {
   "cell_type": "markdown",
   "id": "2f8db6a2-a6f2-49aa-8037-c591a378c4af",
   "metadata": {
    "jp-MarkdownHeadingCollapsed": true,
    "tags": []
   },
   "source": [
    "<h4><b>💾 Step 3. Downloads Models and Checkpoints </b></h4>\n",
    "The model are downloaded in tmp folder, which will be emptied at every new runtime. This MUST be launched in GPU MODE."
   ]
  },
  {
   "cell_type": "code",
   "execution_count": null,
   "id": "7264a7c8-4386-4996-8da7-babb387770d6",
   "metadata": {
    "tags": []
   },
   "outputs": [],
   "source": [
    "!rm -rf /home/studio-lab-user/tmp\n",
    "!rm -rf /home/studio-lab-user/stable-diffusion-webui/models/Stable-diffusion/tmp_models\n",
    "!ln -vs /tmp ~/tmp\n",
    "!ln -vs /tmp/models /home/studio-lab-user/stable-diffusion-webui/models/Stable-diffusion/tmp_models\n",
    "!mkdir -p /tmp/models\n",
    "%cd ~/stable-diffusion-webui/models/Stable-diffusion/tmp_models\n",
    "!aria2c --console-log-level=error -c -x 16 -s 16 -k 1M https://huggingface.co/ckpt/sd_xl_base_1.0/resolve/main/sd_xl_base_1.0_0.9vae.safetensors   -o sdxl_base.safetensors\n",
    "!aria2c --console-log-level=error -c -x 16 -s 16 -k 1M https://huggingface.co/ckpt/sd_xl_refiner_1.0/resolve/main/sd_xl_refiner_1.0_0.9vae.safetensors   -o sdxl_refiner.safetensors\n",
    "%cd ~/stable-diffusion-webui/models/VAE\n",
    "!aria2c --console-log-level=error -c -x 16 -s 16 -k 1M https://huggingface.co/ckpt/sdxl_vae/resolve/main/sdxl_vae.safetensors -o sdxl_vae.vae.safetensors"
   ]
  },
  {
   "cell_type": "markdown",
   "id": "6a87cf1c-7b77-4618-9576-c7e4181dde49",
   "metadata": {
    "jp-MarkdownHeadingCollapsed": true,
    "tags": []
   },
   "source": [
    "<h4><b>🌟 Step 4. BOOT LAUNCHER WEBUI (MUST BE in GPU Mode)</b></h4> \n",
    "Don't forget to paste your NGROK token below. Create one token here https://dashboard.ngrok.com/get-started/your-authtoken"
   ]
  },
  {
   "cell_type": "code",
   "execution_count": null,
   "id": "9ea3ea45-056c-4863-a06a-3f7422bf7e20",
   "metadata": {
    "scrolled": true,
    "tags": []
   },
   "outputs": [],
   "source": [
    "#Don't forget to paste your NGROK token here\n",
    "%cd ~/stable-diffusion-webui\n",
    "!python launch.py --ngrok PASTE_YOUR_TOKEN_HERE --listen --xformers --no-half-vae --enable-insecure-extension-access --theme dark --gradio-queue"
   ]
  },
  {
   "cell_type": "code",
   "execution_count": null,
   "id": "08cc20d4-3cb7-45b9-8ca7-506abe0cf79c",
   "metadata": {
    "tags": []
   },
   "outputs": [],
   "source": [
    "#Check your available storage\n",
    "!df -h | grep -E 'Avail|home'"
   ]
  },
  {
   "cell_type": "markdown",
   "id": "c9058578-7096-44ce-8ea2-0153cf151c44",
   "metadata": {
    "jp-MarkdownHeadingCollapsed": true,
    "tags": []
   },
   "source": [
    "<h4><b>🖼️ Step 5. Download all your outputs</b></h4>\n",
    "If your setup folder doesn't have problem, skip this step."
   ]
  },
  {
   "cell_type": "code",
   "execution_count": null,
   "id": "fdeece9b-7e0a-4c93-aec2-6d96b95cdc84",
   "metadata": {
    "tags": []
   },
   "outputs": [],
   "source": [
    "#download and compress all outputs\n",
    "import os\n",
    "import zipfile\n",
    "def zip_folder(input_folder, output_folder, max_size_mb=20):\n",
    "    # Create the output folder if it doesn't exist\n",
    "    os.makedirs(output_folder, exist_ok=True)\n",
    "    zip_number = 1\n",
    "    current_zip_size = 0\n",
    "    current_zip_name = os.path.join(output_folder, f\"part_{zip_number}.zip\")    \n",
    "    with zipfile.ZipFile(current_zip_name, 'w', zipfile.ZIP_DEFLATED) as current_zip:\n",
    "        for root, _, files in os.walk(input_folder):\n",
    "            for file in files:\n",
    "                file_path = os.path.join(root, file)\n",
    "                file_size = os.path.getsize(file_path)           \n",
    "                # Check if adding the current file exceeds the max size\n",
    "                if current_zip_size + file_size > max_size_mb * 1024 * 1024:\n",
    "                    # Close the current zip file\n",
    "                    current_zip.close()             \n",
    "                    # Start a new zip file\n",
    "                    zip_number += 1\n",
    "                    current_zip_name = os.path.join(output_folder, f\"part_{zip_number}.zip\")\n",
    "                    current_zip = zipfile.ZipFile(current_zip_name, 'w', zipfile.ZIP_DEFLATED)\n",
    "                    current_zip_size = 0  \n",
    "                # Add the file to the current zip\n",
    "                current_zip.write(file_path, os.path.relpath(file_path, input_folder))\n",
    "                current_zip_size += file_size\n",
    "# Specify the input folder to be zipped\n",
    "input_folder = 'stable-diffusion-webui/outputs/txt2img-images'  # Replace with the path to your input folder\n",
    "# Specify the output folder where zip files will be saved\n",
    "output_folder = 'outputs'  # Replace with the path to your output folder\n",
    "# Specify the maximum size for each zip file in MB\n",
    "max_size_mb = 200\n",
    "# Create zip files with a maximum size of 20MB\n",
    "zip_folder(input_folder, output_folder, max_size_mb)"
   ]
  },
  {
   "cell_type": "code",
   "execution_count": null,
   "id": "b8a56c3a-f0af-4c87-bf83-c99942a3a3b0",
   "metadata": {},
   "outputs": [],
   "source": [
    "#delete and empty the OUTPUT folder\n",
    "!rm -rf /home/studio-lab-user/stable-diffusion-webui/outputs/*"
   ]
  },
  {
   "cell_type": "markdown",
   "id": "1d0a3313-0c65-44ef-b89e-459fa779e84b",
   "metadata": {
    "jp-MarkdownHeadingCollapsed": true,
    "tags": []
   },
   "source": [
    "<h4><b> Backup Tools </b></h4>\n",
    "If your setup folder doesn't have problem, skip this step."
   ]
  },
  {
   "cell_type": "code",
   "execution_count": null,
   "id": "eaca1b93-a213-4778-84fa-43605b6f75dd",
   "metadata": {
    "tags": []
   },
   "outputs": [],
   "source": [
    "!curl -Lo \"/home/studio-lab-user/stable-diffusion-webui/models/VAE/sdxl_vae.safetensors\" \"https://huggingface.co/ckpt/sdxl_vae/resolve/main/sdxl_vae.safetensors\""
   ]
  },
  {
   "cell_type": "code",
   "execution_count": null,
   "id": "213d1125-9602-46bb-90d8-3d5cd1ca684a",
   "metadata": {},
   "outputs": [],
   "source": [
    "!curl -Lo \"/home/studio-lab-user/stable-diffusion-webui/models/Stable-diffusion/epicphotogasm.safetensors\" \"https://civitai.com/api/download/models/145885\"\n",
    "!curl -Lo \"/home/studio-lab-user/stable-diffusion-webui/models/Stable-diffusion/RealvisXL.safetensors\" \"https://civitai.com/api/download/models/154590\""
   ]
  },
  {
   "cell_type": "code",
   "execution_count": null,
   "id": "f4fd3fe0-7f79-4359-9e5d-8305c31ae68b",
   "metadata": {},
   "outputs": [],
   "source": [
    "# tmp\n",
    "!ln -vs /tmp/controlnet_models /home/studio-lab-user/stable-diffusion-webui/extensions/sd-webui-controlnet/models\n",
    "!mkdir -p /tmp/controlnet_models\n",
    "%cd ~/stable-diffusion-webui/extensions/sd-webui-controlnet/models\n",
    "\n",
    "!aria2c --console-log-level=error -c -x 16 -s 16 -k 1M https://huggingface.co/ckpt/ControlNet-v1-1/resolve/main/control_v11e_sd15_ip2p_fp16.safetensors             -o control_v11e_sd15_ip2p_fp16.safetensors\n",
    "!aria2c --console-log-level=error -c -x 16 -s 16 -k 1M https://huggingface.co/ckpt/ControlNet-v1-1/resolve/main/control_v11e_sd15_shuffle_fp16.safetensors          -o control_v11e_sd15_shuffle_fp16.safetensors\n",
    "!aria2c --console-log-level=error -c -x 16 -s 16 -k 1M https://huggingface.co/ckpt/ControlNet-v1-1/resolve/main/control_v11p_sd15_canny_fp16.safetensors            -o control_v11p_sd15_canny_fp16.safetensors\n",
    "!aria2c --console-log-level=error -c -x 16 -s 16 -k 1M https://huggingface.co/ckpt/ControlNet-v1-1/resolve/main/control_v11f1p_sd15_depth_fp16.safetensors          -o control_v11f1p_sd15_depth_fp16.safetensors\n",
    "!aria2c --console-log-level=error -c -x 16 -s 16 -k 1M https://huggingface.co/ckpt/ControlNet-v1-1/resolve/main/control_v11p_sd15_inpaint_fp16.safetensors          -o control_v11p_sd15_inpaint_fp16.safetensors\n",
    "#!aria2c --console-log-level=error -c -x 16 -s 16 -k 1M https://huggingface.co/ckpt/ControlNet-v1-1/resolve/main/control_v11p_sd15_lineart_fp16.safetensors          -o control_v11p_sd15_lineart_fp16.safetensors\n",
    "#!aria2c --console-log-level=error -c -x 16 -s 16 -k 1M https://huggingface.co/ckpt/ControlNet-v1-1/resolve/main/control_v11p_sd15_mlsd_fp16.safetensors             -o control_v11p_sd15_mlsd_fp16.safetensors\n",
    "#!aria2c --console-log-level=error -c -x 16 -s 16 -k 1M https://huggingface.co/ckpt/ControlNet-v1-1/resolve/main/control_v11p_sd15_normalbae_fp16.safetensors        -o control_v11p_sd15_normalbae_fp16.safetensors\n",
    "#!aria2c --console-log-level=error -c -x 16 -s 16 -k 1M https://huggingface.co/ckpt/ControlNet-v1-1/resolve/main/control_v11p_sd15_openpose_fp16.safetensors         -o control_v11p_sd15_openpose_fp16.safetensors\n",
    "#!aria2c --console-log-level=error -c -x 16 -s 16 -k 1M https://huggingface.co/ckpt/ControlNet-v1-1/resolve/main/control_v11p_sd15_scribble_fp16.safetensors         -o control_v11p_sd15_scribble_fp16.safetensors\n",
    "#!aria2c --console-log-level=error -c -x 16 -s 16 -k 1M https://huggingface.co/ckpt/ControlNet-v1-1/resolve/main/control_v11p_sd15_seg_fp16.safetensors              -o control_v11p_sd15_seg_fp16.safetensors\n",
    "#!aria2c --console-log-level=error -c -x 16 -s 16 -k 1M https://huggingface.co/ckpt/ControlNet-v1-1/resolve/main/control_v11p_sd15_softedge_fp16.safetensors         -o control_v11p_sd15_softedge_fp16.safetensors\n",
    "#!aria2c --console-log-level=error -c -x 16 -s 16 -k 1M https://huggingface.co/ckpt/ControlNet-v1-1/resolve/main/control_v11p_sd15s2_lineart_anime_fp16.safetensors  -o control_v11p_sd15s2_lineart_anime_fp16.safetensors\n",
    "#!aria2c --console-log-level=error -c -x 16 -s 16 -k 1M https://huggingface.co/ckpt/ControlNet-v1-1/resolve/main/control_v11f1e_sd15_tile_fp16.safetensors           -o control_v11f1e_sd15_tile_fp16.safetensors\n",
    "\n",
    "\n",
    "\n",
    "#!aria2c --console-log-level=error -c -x 16 -s 16 -k 1M https://huggingface.co/ckpt/ControlNet-v1-1/raw/main/control_v11e_sd15_ip2p_fp16.yaml                        -o control_v11e_sd15_ip2p_fp16.yaml\n",
    "#!aria2c --console-log-level=error -c -x 16 -s 16 -k 1M https://huggingface.co/ckpt/ControlNet-v1-1/raw/main/control_v11e_sd15_shuffle_fp16.yaml                     -o control_v11e_sd15_shuffle_fp16.yaml\n",
    "#!aria2c --console-log-level=error -c -x 16 -s 16 -k 1M https://huggingface.co/ckpt/ControlNet-v1-1/raw/main/control_v11p_sd15_canny_fp16.yaml                       -o control_v11p_sd15_canny_fp16.yaml\n",
    "#!aria2c --console-log-level=error -c -x 16 -s 16 -k 1M https://huggingface.co/ckpt/ControlNet-v1-1/raw/main/control_v11f1p_sd15_depth_fp16.yaml                     -o control_v11f1p_sd15_depth_fp16.yaml\n",
    "#!aria2c --console-log-level=error -c -x 16 -s 16 -k 1M https://huggingface.co/ckpt/ControlNet-v1-1/raw/main/control_v11p_sd15_inpaint_fp16.yaml                     -o control_v11p_sd15_inpaint_fp16.yaml\n",
    "#!aria2c --console-log-level=error -c -x 16 -s 16 -k 1M https://huggingface.co/ckpt/ControlNet-v1-1/raw/main/control_v11p_sd15_lineart_fp16.yaml                     -o control_v11p_sd15_lineart_fp16.yaml\n",
    "#!aria2c --console-log-level=error -c -x 16 -s 16 -k 1M https://huggingface.co/ckpt/ControlNet-v1-1/raw/main/control_v11p_sd15_mlsd_fp16.yaml                        -o control_v11p_sd15_mlsd_fp16.yaml\n",
    "#!aria2c --console-log-level=error -c -x 16 -s 16 -k 1M https://huggingface.co/ckpt/ControlNet-v1-1/raw/main/control_v11p_sd15_normalbae_fp16.yaml                   -o control_v11p_sd15_normalbae_fp16.yaml\n",
    "#!aria2c --console-log-level=error -c -x 16 -s 16 -k 1M https://huggingface.co/ckpt/ControlNet-v1-1/raw/main/control_v11p_sd15_openpose_fp16.yaml                    -o control_v11p_sd15_openpose_fp16.yaml\n",
    "#!aria2c --console-log-level=error -c -x 16 -s 16 -k 1M https://huggingface.co/ckpt/ControlNet-v1-1/raw/main/control_v11p_sd15_scribble_fp16.yaml                    -o control_v11p_sd15_scribble_fp16.yaml\n",
    "#!aria2c --console-log-level=error -c -x 16 -s 16 -k 1M https://huggingface.co/ckpt/ControlNet-v1-1/raw/main/control_v11p_sd15_seg_fp16.yaml                         -o control_v11p_sd15_seg_fp16.yaml\n",
    "#!aria2c --console-log-level=error -c -x 16 -s 16 -k 1M https://huggingface.co/ckpt/ControlNet-v1-1/raw/main/control_v11p_sd15_softedge_fp16.yaml                    -o control_v11p_sd15_softedge_fp16.yaml\n",
    "#!aria2c --console-log-level=error -c -x 16 -s 16 -k 1M https://huggingface.co/ckpt/ControlNet-v1-1/raw/main/control_v11p_sd15s2_lineart_anime_fp16.yaml             -o control_v11p_sd15s2_lineart_anime_fp16.yaml\n",
    "#!aria2c --console-log-level=error -c -x 16 -s 16 -k 1M https://huggingface.co/ckpt/ControlNet-v1-1/raw/main/control_v11f1e_sd15_tile_fp16.yaml                      -o control_v11f1e_sd15_tile_fp16.yaml"
   ]
  },
  {
   "cell_type": "code",
   "execution_count": null,
   "id": "aaea3473-1ac6-40d8-98c2-a29386ca147e",
   "metadata": {
    "tags": []
   },
   "outputs": [],
   "source": [
    "#List all folders and sizes\n",
    "!du -h --max-depth=1 /home/studio-lab-user"
   ]
  },
  {
   "cell_type": "code",
   "execution_count": null,
   "id": "747e82f8-7884-4e66-8628-bd1f899c99a4",
   "metadata": {
    "tags": []
   },
   "outputs": [],
   "source": [
    "# create symlink to temporary folder\n",
    "!ln -vs /tmp ~/tmp\n",
    "#\n",
    "!ln -vs /tmp/outputs /home/studio-lab-user/stable-diffusion-webui/outputs\n",
    "#\n",
    "!ln -vs /tmp/models /home/studio-lab-user/stable-diffusion-webui/models/Stable-diffusion/tmp_models\n",
    "#\n",
    "!mkdir ~/stable-diffusion-webui/models/Lora\n",
    "!ln -vs /tmp/Lora /home/studio-lab-user/stable-diffusion-webui/models/Lora/tmp_Lora"
   ]
  },
  {
   "cell_type": "code",
   "execution_count": null,
   "id": "02ccc281-c43a-4bc7-9b97-adf6bea6f8f6",
   "metadata": {
    "tags": []
   },
   "outputs": [],
   "source": [
    "!conda list"
   ]
  },
  {
   "cell_type": "code",
   "execution_count": null,
   "id": "ab02c781-46ea-4f07-8c4b-f329069d903b",
   "metadata": {
    "tags": []
   },
   "outputs": [],
   "source": [
    "#clean remove all env, cache and file\n",
    "!rm -r /home/studio-lab-user/.cache\n",
    "!rm -r /home/studio-lab-user/.stable-diffusion-webui\n",
    "!conda remove -n \"env_name\" --all\n",
    "!rm -rf /home/studio-lab-user/*"
   ]
  },
  {
   "cell_type": "code",
   "execution_count": null,
   "id": "820e32ee-5b82-488b-8daa-767d3b746f2d",
   "metadata": {},
   "outputs": [],
   "source": [
    "!rm -rf /home/studio-lab-user/tmp\n",
    "!rm -rf /home/studio-lab-user/stable-diffusion-webui/models/Stable-diffusion/tmp_models\n",
    "!rm -rf /home/studio-lab-user/stable-diffusion-webui/\n",
    "\n",
    "\n",
    "#delete and empty the MODELS folder\n",
    "!rm -rf /home/studio-lab-user/stable-diffusion-webui/models/Stable-diffusion/*\n",
    "\n",
    "# persistent\n",
    "#%cd ~/asd/models/Stable-diffusion\n",
    "#!aria2c --console-log-level=error -c -x 16 -s 16 -k 1M https://civitai.com/api/download/models/77744 -o Meichidark_Mix_V2.safetensors"
   ]
  },
  {
   "cell_type": "markdown",
   "id": "baaf8967-78f3-4b63-9427-313bffa67a93",
   "metadata": {},
   "source": []
  },
  {
   "cell_type": "code",
   "execution_count": null,
   "id": "4596433a-b219-482d-81bc-622468f9af97",
   "metadata": {},
   "outputs": [],
   "source": [
    "!curl -Lo \"/home/studio-lab-user/stable-diffusion-webui/models/Stable-diffusion/sdxl_base.safetensors\" \"https://huggingface.co/ckpt/sd_xl_base_1.0/resolve/main/sd_xl_base_1.0_0.9vae.safetensors\"\n",
    "!curl -Lo \"/home/studio-lab-user/stable-diffusion-webui/models/Stable-diffusion/sdxl_refiner.safetensors\" \"https://huggingface.co/ckpt/sd_xl_refiner_1.0/resolve/main/sd_xl_refiner_1.0_0.9vae.safetensors\"\n"
   ]
  },
  {
   "cell_type": "markdown",
   "id": "bf5499c3-18fb-4325-8c37-5298751e4f97",
   "metadata": {},
   "source": [
    "BELOW ONLY FOR TROUBLESHOOTING"
   ]
  },
  {
   "cell_type": "code",
   "execution_count": null,
   "id": "38f3b678-ce14-47c8-b8ca-5b2295fc628c",
   "metadata": {},
   "outputs": [],
   "source": [
    "%cd ~/stable-diffusion-webui\n",
    "!pip install -r requirements.txt"
   ]
  },
  {
   "cell_type": "code",
   "execution_count": null,
   "id": "6c7131fd-9ce7-4c3c-861c-a3acc252c086",
   "metadata": {
    "tags": []
   },
   "outputs": [],
   "source": [
    "%cd ~/stable-diffusion-webui\n",
    "!python launch.py --listen --xformers --enable-insecure-extension-access --theme dark --ngrok auth"
   ]
  },
  {
   "cell_type": "code",
   "execution_count": null,
   "id": "5bb61644-e972-402e-aff6-c6445ff99965",
   "metadata": {
    "tags": []
   },
   "outputs": [],
   "source": [
    "import torch\n",
    "torch.cuda.get_device_name(0)"
   ]
  },
  {
   "cell_type": "code",
   "execution_count": null,
   "id": "d6a8c055-4668-40cd-aa41-8bc6474c9ff0",
   "metadata": {
    "tags": []
   },
   "outputs": [],
   "source": [
    "import torch\n",
    "print(torch.version.cuda)"
   ]
  },
  {
   "cell_type": "code",
   "execution_count": null,
   "id": "6b3f9867-000e-43f4-9b04-ae5c0d9166bd",
   "metadata": {
    "tags": []
   },
   "outputs": [],
   "source": [
    "!pip uninstall torchvision -y"
   ]
  },
  {
   "cell_type": "code",
   "execution_count": null,
   "id": "2d990595-7f34-4946-9a21-197306222434",
   "metadata": {
    "tags": []
   },
   "outputs": [],
   "source": [
    "!pip install torchvision==0.10.0"
   ]
  },
  {
   "cell_type": "code",
   "execution_count": null,
   "id": "5b85fa10-c03f-4942-a227-02d1cbe90f4a",
   "metadata": {
    "tags": []
   },
   "outputs": [],
   "source": [
    "!pip install torch==1.10.0"
   ]
  },
  {
   "cell_type": "code",
   "execution_count": null,
   "id": "abc7178a-c5b7-4722-8e9e-728308d83d70",
   "metadata": {
    "tags": []
   },
   "outputs": [],
   "source": [
    "!pip install xformers==0.0.20 tomesd==0.1.3 pytorch-lightning==1.9.4 accelerate==0.21.0"
   ]
  },
  {
   "cell_type": "code",
   "execution_count": null,
   "id": "577b9843-0e8c-4dd8-aa02-8eaf8c51f1d8",
   "metadata": {
    "tags": []
   },
   "outputs": [],
   "source": [
    "!conda install -c conda-forge libglib -y"
   ]
  },
  {
   "cell_type": "code",
   "execution_count": null,
   "id": "f24321a3-700a-47e9-8995-0893dd2f834f",
   "metadata": {},
   "outputs": [],
   "source": []
  }
 ],
 "metadata": {
  "kernelspec": {
   "display_name": "default:Python",
   "language": "python",
   "name": "conda-env-default-py"
  },
  "language_info": {
   "codemirror_mode": {
    "name": "ipython",
    "version": 3
   },
   "file_extension": ".py",
   "mimetype": "text/x-python",
   "name": "python",
   "nbconvert_exporter": "python",
   "pygments_lexer": "ipython3",
   "version": "3.9.16"
  }
 },
 "nbformat": 4,
 "nbformat_minor": 5
}
