{
 "cells": [
  {
   "cell_type": "markdown",
   "id": "2a86fcac-7907-4ab9-8287-d21b241e1b89",
   "metadata": {},
   "source": [
    "RUN THIS CODE BELOW (Only in the first run)"
   ]
  },
  {
   "cell_type": "code",
   "execution_count": null,
   "id": "7ad40e45-9797-4188-be16-2e6c4d218ddc",
   "metadata": {
    "tags": []
   },
   "outputs": [],
   "source": [
    "#Install all essentials for stable diffusion\n",
    "!conda install -c conda-forge libglib -y & conda update -n base conda -y\n",
    "!git clone --depth 1 https://github.com/dreamscapeai/stable-diffusion-webui\n",
    "%cd ~/stable-diffusion-webui\n",
    "!git pull\n",
    "\n",
    "!mkdir /home/studio-lab-user/stable-diffusion-webui/outputs\n",
    "\n",
    "%cd /home/studio-lab-user/stable-diffusion-webui/embeddings\n",
    "!git clone --depth 1 https://github.com/dreamscapeai/negativekit\n",
    "\n",
    "%cd /home/studio-lab-user/stable-diffusion-webui/extensions\n",
    "!git clone --depth 1 https://github.com/etherealxx/batchlinks-webui\n",
    "!git clone --depth 1 https://github.com/zanllp/sd-webui-infinite-image-browsing\n",
    "!git clone --depth 1 https://github.com/dreamscapeai/CN-v11400\n",
    "!git clone --depth 1 https://github.com/dreamscapeai/adetailer\n",
    "!git clone --depth 1 https://github.com/dreamscapeai/ultimatesdupscale\n",
    "!git clone --depth 1 https://github.com/dreamscapeai/tagcomplete\n",
    "!git clone --depth 1 https://github.com/IDEA-Research/DWPose\n",
    "\n",
    "#Controlnet openpose\n",
    "!curl -Lo \"/home/studio-lab-user/stable-diffusion-webui/extensions/CN-v11400/models/openpose.safetensors\" \"https://huggingface.co/ckpt/ControlNet-v1-1/resolve/main/control_v11p_sd15_openpose_fp16.safetensors\"\n",
    "\n",
    "#load your lora\n",
    "!curl -Lo \"/home/studio-lab-user/stable-diffusion-webui/models/Lora/adddetailer.safetensors\" \"https://civitai.com/api/download/models/62833\"\n",
    "!curl -Lo \"/home/studio-lab-user/stable-diffusion-webui/models/Lora/epinoiseoffset.safetensors\" \"https://civitai.com/api/download/models/16576?type=Model&format=SafeTensor&size=full&fp=fp16\"\n",
    "\n",
    "#load your checkpoints\n",
    "!curl -Lo \"/home/studio-lab-user/stable-diffusion-webui/models/Stable-diffusion/majicmix.safetensors\" \"https://civitai.com/api/download/models/94640\"\n",
    "!curl -Lo \"/home/studio-lab-user/stable-diffusion-webui/models/Stable-diffusion/chilloutmix.safetensors\" \"https://civitai.com/api/download/models/11745\""
   ]
  },
  {
   "cell_type": "code",
   "execution_count": null,
   "id": "3a978ddb",
   "metadata": {},
   "outputs": [],
   "source": [
    "#Controlnet\n",
    "!curl -Lo \"/home/studio-lab-user/stable-diffusion-webui/extensions/CN-v11400/models/openpose.safetensors\" \"https://huggingface.co/ckpt/ControlNet-v1-1/resolve/main/control_v11p_sd15_openpose_fp16.safetensors\"\n",
    "!curl -Lo \"/home/studio-lab-user/stable-diffusion-webui/extensions/CN-v11400/models/shuffle.safetensors\" \"https://huggingface.co/ckpt/ControlNet-v1-1/resolve/main/control_v11e_sd15_shuffle_fp16.safetensors\"\n",
    "!curl -Lo \"/home/studio-lab-user/stable-diffusion-webui/extensions/CN-v11400/models/canny.safetensors\" \"https://huggingface.co/ckpt/ControlNet-v1-1/resolve/main/control_v11p_sd15_canny_fp16.safetensors\"\n",
    "!curl -Lo \"/home/studio-lab-user/stable-diffusion-webui/extensions/CN-v11400/models/depth.safetensors\" \"https://huggingface.co/ckpt/ControlNet-v1-1/resolve/main/control_v11f1p_sd15_depth_fp16.safetensors\"\n",
    "!curl -Lo \"/home/studio-lab-user/stable-diffusion-webui/extensions/CN-v11400/models/inpaint.safetensors\" \"https://huggingface.co/ckpt/ControlNet-v1-1/resolve/main/control_v11p_sd15_inpaint_fp16.safetensors\"\n",
    "!curl -Lo \"/home/studio-lab-user/stable-diffusion-webui/extensions/CN-v11400/models/lineart.safetensors\" \"https://huggingface.co/ckpt/ControlNet-v1-1/resolve/main/control_v11p_sd15_lineart_fp16.safetensors\"\n",
    "!curl -Lo \"/home/studio-lab-user/stable-diffusion-webui/extensions/CN-v11400/models/mlsd.safetensors\" \"https://huggingface.co/ckpt/ControlNet-v1-1/resolve/main/control_v11p_sd15_mlsd_fp16.safetensors\"\n",
    "!curl -Lo \"/home/studio-lab-user/stable-diffusion-webui/extensions/CN-v11400/models/normalbae.safetensors\" \"https://huggingface.co/ckpt/ControlNet-v1-1/resolve/main/control_v11p_sd15_normalbae_fp16.safetensors\"\n",
    "!curl -Lo \"/home/studio-lab-user/stable-diffusion-webui/extensions/CN-v11400/models/scribble.safetensors\" \"https://huggingface.co/ckpt/ControlNet-v1-1/resolve/main/control_v11p_sd15_scribble_fp16.safetensors\"\n",
    "!curl -Lo \"/home/studio-lab-user/stable-diffusion-webui/extensions/CN-v11400/models/softedge.safetensors\" \"https://huggingface.co/ckpt/ControlNet-v1-1/resolve/main/control_v11p_sd15_softedge_fp16.safetensors\"\n",
    "!curl -Lo \"/home/studio-lab-user/stable-diffusion-webui/extensions/CN-v11400/models/lineart_anime.safetensors\" \"https://huggingface.co/ckpt/ControlNet-v1-1/resolve/main/control_v11p_sd15s2_lineart_anime_fp16.safetensors\""
   ]
  },
  {
   "cell_type": "markdown",
   "id": "9c02e956-5769-4be9-96e9-fea479706e91",
   "metadata": {},
   "source": [
    "BOOT LAUNCHER "
   ]
  },
  {
   "cell_type": "code",
   "execution_count": 1,
   "id": "2b689da8-536b-4c77-b77c-c8285763fafd",
   "metadata": {
    "tags": []
   },
   "outputs": [
    {
     "name": "stdout",
     "output_type": "stream",
     "text": [
      "  % Total    % Received % Xferd  Average Speed   Time    Time     Time  Current\n",
      "                                 Dload  Upload   Total   Spent    Left  Speed\n",
      "100   502    0   502    0     0    336      0 --:--:--  0:00:01 --:--:--   336\n",
      "100 36.1M  100 36.1M    0     0  14.3M      0  0:00:02  0:00:02 --:--:-- 68.8M\n",
      "  % Total    % Received % Xferd  Average Speed   Time    Time     Time  Current\n",
      "                                 Dload  Upload   Total   Spent    Left  Speed\n",
      "100   513    0   513    0     0    254      0 --:--:--  0:00:02 --:--:--   254\n",
      "100 77.7M  100 77.7M    0     0  17.5M      0  0:00:04  0:00:04 --:--:-- 39.9M\n"
     ]
    }
   ],
   "source": [
    "!curl -Lo \"/home/studio-lab-user/stable-diffusion-webui/models/Lora/adddetailer.safetensors\" \"https://civitai.com/api/download/models/62833\"\n",
    "!curl -Lo \"/home/studio-lab-user/stable-diffusion-webui/models/Lora/epinoiseoffset.safetensors\" \"https://civitai.com/api/download/models/16576?type=Model&format=SafeTensor&size=full&fp=fp16\""
   ]
  },
  {
   "cell_type": "code",
   "execution_count": null,
   "id": "9ea3ea45-056c-4863-a06a-3f7422bf7e20",
   "metadata": {
    "tags": []
   },
   "outputs": [
    {
     "name": "stdout",
     "output_type": "stream",
     "text": [
      "/home/studio-lab-user/stable-diffusion-webui\n",
      "fatal: No names found, cannot describe anything.\n",
      "Python 3.9.16 | packaged by conda-forge | (main, Feb  1 2023, 21:39:03) \n",
      "[GCC 11.3.0]\n",
      "Version: 1.6.0\n",
      "Commit hash: 05aaee11acadf822a56801d96d42b722072d2936\n",
      "Launching Web UI with arguments: --listen --xformers --enable-insecure-extension-access --theme dark --gradio-queue --ngrok 2VWfHO1vlO3HRzyhcrz89BVt2a6_T1JeQp4dSd4XhywRCeg5\n",
      "ngrok authtoken detected, trying to connect...\n",
      "ngrok connected to localhost:7860! URL: https://385f-3-136-172-40.ngrok-free.app\n",
      "You can use this link after the launch is complete.\n",
      "2023-09-17 13:18:13,529 - ControlNet - \u001b[0;32mINFO\u001b[0m - ControlNet v1.1.409\n",
      "ControlNet preprocessor location: /home/studio-lab-user/stable-diffusion-webui/extensions/CN-v11400/annotator/downloads\n",
      "2023-09-17 13:18:13,660 - ControlNet - \u001b[0;32mINFO\u001b[0m - ControlNet v1.1.409\n",
      "\u001b[1m[\u001b[0m-\u001b[1m]\u001b[0m ADetailer initialized. version: \u001b[1;36m23.8\u001b[0m.\u001b[1;36m1\u001b[0m, num models: \u001b[1;36m9\u001b[0m\n",
      "Tag Autocomplete: Could not locate model-keyword extension, Lora trigger word completion will be limited to those added through the extra networks menu.\n",
      "Checkpoint epicphotogasm.safetensors [e48ca7f826] not found; loading fallback chilloutmix.safetensors\n",
      "Calculating sha256 for /home/studio-lab-user/stable-diffusion-webui/models/Stable-diffusion/chilloutmix.safetensors: Running on local URL:  http://0.0.0.0:7860\n",
      "\n",
      "To create a public link, set `share=True` in `launch()`.\n",
      "Startup time: 25.6s (prepare environment: 5.2s, import torch: 4.4s, import gradio: 1.7s, setup paths: 2.6s, initialize shared: 0.5s, other imports: 1.6s, setup codeformer: 0.2s, load scripts: 8.4s, create ui: 0.8s, gradio launch: 0.2s).\n",
      "fc2511737a54c5e80b89ab03e0ab4b98d051ab187f92860f3cd664dc9d08b271\n",
      "Loading weights [fc2511737a] from /home/studio-lab-user/stable-diffusion-webui/models/Stable-diffusion/chilloutmix.safetensors\n",
      "Creating model from config: /home/studio-lab-user/stable-diffusion-webui/configs/v1-inference.yaml\n",
      "Applying attention optimization: xformers... done.\n",
      "Model loaded in 43.8s (calculate hash: 32.1s, load weights from disk: 0.2s, create model: 0.5s, apply weights to model: 8.9s, load textual inversion embeddings: 0.1s, calculate empty prompt: 1.9s).\n"
     ]
    }
   ],
   "source": [
    "#Don't forget to paste your NGROK token here\n",
    "%cd ~/stable-diffusion-webui\n",
    "!python launch.py --listen --xformers --enable-insecure-extension-access --theme dark --gradio-queue --ngrok 2VWfHO1vlO3HRzyhcrz89BVt2a6_T1JeQp4dSd4XhywRCeg5"
   ]
  },
  {
   "cell_type": "code",
   "execution_count": null,
   "id": "96f4ab86-9417-40f3-968e-00d700dfac75",
   "metadata": {},
   "outputs": [],
   "source": []
  },
  {
   "cell_type": "code",
   "execution_count": null,
   "id": "213d1125-9602-46bb-90d8-3d5cd1ca684a",
   "metadata": {},
   "outputs": [],
   "source": [
    "!curl -Lo \"/home/studio-lab-user/stable-diffusion-webui/models/Stable-diffusion/epicphotogasm.safetensors\" \"https://civitai.com/api/download/models/145885\"\n",
    "!curl -Lo \"/home/studio-lab-user/stable-diffusion-webui/models/Stable-diffusion/RealvisXL.safetensors\" \"https://civitai.com/api/download/models/154590\""
   ]
  },
  {
   "cell_type": "markdown",
   "id": "e50c2b1c-798d-46eb-97bb-cc16b5dfc77e",
   "metadata": {},
   "source": [
    "UTILITIES & USEFUL TOOLS"
   ]
  },
  {
   "cell_type": "code",
   "execution_count": null,
   "id": "fdeece9b-7e0a-4c93-aec2-6d96b95cdc84",
   "metadata": {
    "tags": []
   },
   "outputs": [],
   "source": [
    "#download and compress all outputs\n",
    "import zipfile\n",
    "import os\n",
    "\n",
    "def create_zip_archive(source_dir, output_path):\n",
    "    with zipfile.ZipFile(output_path, 'w', zipfile.ZIP_DEFLATED) as zipf:\n",
    "        for root, dirs, files in os.walk(source_dir):\n",
    "            for file in files:\n",
    "                file_path = os.path.join(root, file)\n",
    "                zipf.write(file_path, os.path.relpath(file_path, source_dir))\n",
    "\n",
    "# Specify the source directory and output path\n",
    "source_dir = '/home/studio-lab-user/stable-diffusion-webui/outputs'\n",
    "output_path = '/home/studio-lab-user/outputs.zip'\n",
    "\n",
    "# Create the ZIP archive\n",
    "create_zip_archive(source_dir, output_path)"
   ]
  },
  {
   "cell_type": "code",
   "execution_count": null,
   "id": "439692fe-f99d-4703-aa6d-27a8bcc8a775",
   "metadata": {
    "tags": []
   },
   "outputs": [],
   "source": [
    "#Check the storage available (if storage full, can cause problem)\n",
    "!df -h | grep -E 'Avail|home'"
   ]
  },
  {
   "cell_type": "code",
   "execution_count": null,
   "id": "b8a56c3a-f0af-4c87-bf83-c99942a3a3b0",
   "metadata": {},
   "outputs": [],
   "source": [
    "#delete and empty the OUTPUT folder\n",
    "!rm -rf /home/studio-lab-user/stable-diffusion-webui/outputs/*"
   ]
  },
  {
   "cell_type": "code",
   "execution_count": null,
   "id": "8ac13a1e-906a-4da8-b98b-0e300ab5b8b4",
   "metadata": {},
   "outputs": [],
   "source": [
    "#delete and empty the MODELS folder\n",
    "!rm -rf /home/studio-lab-user/stable-diffusion-webui/models/Stable-diffusion/*"
   ]
  },
  {
   "cell_type": "markdown",
   "id": "0c18d664-3e44-45a6-a25c-8402e590e5b7",
   "metadata": {},
   "source": []
  },
  {
   "cell_type": "markdown",
   "id": "1c518ead-677f-42f0-a67f-1d30327fec10",
   "metadata": {},
   "source": []
  },
  {
   "cell_type": "markdown",
   "id": "1d0a3313-0c65-44ef-b89e-459fa779e84b",
   "metadata": {},
   "source": [
    "START CLEAN EVERYTHING ONLY IF YOU HAVE ERROR"
   ]
  },
  {
   "cell_type": "code",
   "execution_count": null,
   "id": "5ad6a08b-34a4-4a73-b618-38715a895bd2",
   "metadata": {
    "tags": []
   },
   "outputs": [],
   "source": [
    "#Check the storage available (if storage full, can cause problem)\n",
    "!df -h | grep -E 'Avail|home'"
   ]
  },
  {
   "cell_type": "code",
   "execution_count": null,
   "id": "aaea3473-1ac6-40d8-98c2-a29386ca147e",
   "metadata": {
    "tags": []
   },
   "outputs": [],
   "source": [
    "#List all folders and sizes\n",
    "!du -h --max-depth=1 /home/studio-lab-user"
   ]
  },
  {
   "cell_type": "code",
   "execution_count": null,
   "id": "ab02c781-46ea-4f07-8c4b-f329069d903b",
   "metadata": {
    "tags": []
   },
   "outputs": [],
   "source": [
    "#clean remove all env, cache and file\n",
    "!rm -r /home/studio-lab-user/.cache\n",
    "!rm -r /home/studio-lab-user/.conda\n",
    "!conda remove -n \"env_name\" --all\n",
    "!rm -rf /home/studio-lab-user/*"
   ]
  },
  {
   "cell_type": "markdown",
   "id": "baaf8967-78f3-4b63-9427-313bffa67a93",
   "metadata": {},
   "source": []
  },
  {
   "cell_type": "markdown",
   "id": "bf5499c3-18fb-4325-8c37-5298751e4f97",
   "metadata": {},
   "source": [
    "BELOW ONLY FOR TROUBLESHOOTING"
   ]
  },
  {
   "cell_type": "code",
   "execution_count": null,
   "id": "38f3b678-ce14-47c8-b8ca-5b2295fc628c",
   "metadata": {},
   "outputs": [],
   "source": [
    "%cd ~/stable-diffusion-webui\n",
    "!pip install -r requirements.txt"
   ]
  },
  {
   "cell_type": "code",
   "execution_count": null,
   "id": "6c7131fd-9ce7-4c3c-861c-a3acc252c086",
   "metadata": {
    "tags": []
   },
   "outputs": [],
   "source": [
    "%cd ~/stable-diffusion-webui\n",
    "!python launch.py --listen --xformers --enable-insecure-extension-access --theme dark --ngrok auth"
   ]
  },
  {
   "cell_type": "code",
   "execution_count": null,
   "id": "5bb61644-e972-402e-aff6-c6445ff99965",
   "metadata": {
    "tags": []
   },
   "outputs": [],
   "source": [
    "import torch\n",
    "torch.cuda.get_device_name(0)"
   ]
  },
  {
   "cell_type": "code",
   "execution_count": null,
   "id": "d6a8c055-4668-40cd-aa41-8bc6474c9ff0",
   "metadata": {
    "tags": []
   },
   "outputs": [],
   "source": [
    "import torch\n",
    "print(torch.version.cuda)"
   ]
  },
  {
   "cell_type": "code",
   "execution_count": null,
   "id": "6b3f9867-000e-43f4-9b04-ae5c0d9166bd",
   "metadata": {
    "tags": []
   },
   "outputs": [],
   "source": [
    "!pip uninstall torchvision -y"
   ]
  },
  {
   "cell_type": "code",
   "execution_count": null,
   "id": "2d990595-7f34-4946-9a21-197306222434",
   "metadata": {
    "tags": []
   },
   "outputs": [],
   "source": [
    "!pip install torchvision==0.10.0"
   ]
  },
  {
   "cell_type": "code",
   "execution_count": null,
   "id": "5b85fa10-c03f-4942-a227-02d1cbe90f4a",
   "metadata": {
    "tags": []
   },
   "outputs": [],
   "source": [
    "!pip install torch==1.10.0"
   ]
  },
  {
   "cell_type": "code",
   "execution_count": null,
   "id": "abc7178a-c5b7-4722-8e9e-728308d83d70",
   "metadata": {
    "tags": []
   },
   "outputs": [],
   "source": [
    "!pip install xformers==0.0.20 tomesd==0.1.3 pytorch-lightning==1.9.4 accelerate==0.21.0"
   ]
  },
  {
   "cell_type": "code",
   "execution_count": null,
   "id": "577b9843-0e8c-4dd8-aa02-8eaf8c51f1d8",
   "metadata": {
    "tags": []
   },
   "outputs": [],
   "source": [
    "!conda install -c conda-forge libglib -y"
   ]
  },
  {
   "cell_type": "code",
   "execution_count": null,
   "id": "f24321a3-700a-47e9-8995-0893dd2f834f",
   "metadata": {},
   "outputs": [],
   "source": []
  }
 ],
 "metadata": {
  "kernelspec": {
   "display_name": "Python 3",
   "language": "python",
   "name": "python3"
  },
  "language_info": {
   "codemirror_mode": {
    "name": "ipython",
    "version": 3
   },
   "file_extension": ".py",
   "mimetype": "text/x-python",
   "name": "python",
   "nbconvert_exporter": "python",
   "pygments_lexer": "ipython3",
   "version": "3.10.12 (main, Jun  7 2023, 00:38:32) [Clang 14.0.3 (clang-1403.0.22.14.1)]"
  },
  "vscode": {
   "interpreter": {
    "hash": "bd385fe162c5ca0c84973b7dd5c518456272446b2b64e67c2a69f949ca7a1754"
   }
  }
 },
 "nbformat": 4,
 "nbformat_minor": 5
}
